{
 "cells": [
  {
   "cell_type": "markdown",
   "metadata": {},
   "source": [
    "# `SimpleFWF.jl`"
   ]
  },
  {
   "cell_type": "code",
   "execution_count": null,
   "metadata": {},
   "outputs": [],
   "source": [
    "using SimpleFWF"
   ]
  },
  {
   "cell_type": "markdown",
   "metadata": {},
   "source": [
    "Consider a fixed-width file with spaces within each column."
   ]
  },
  {
   "cell_type": "code",
   "execution_count": 2,
   "metadata": {},
   "outputs": [
    {
     "name": "stdout",
     "output_type": "stream",
     "text": [
      "COLUMN A COLUMN B                          COLUMN C COLUMN D\n",
      "       1 SOME VERY LONG STRING WITH SPACES 0.5      01/01/21\n",
      "       2 ANOTHER VERY LONG STRING          1.0      02/01/21\n",
      "       3 MORE STRINGS                      1.5      03/01/21\n",
      "       4 STILL MORE STRINGS                2.0      04/01/21\n",
      "       5 FIVE STRINGS                      2.5      05/01/21\n",
      "       6 SIX STRINGS                       3.0      06/01/21\n",
      "       7 SIX PLUS ONE STRINGS              3.5      07/01/21\n",
      "       8 EIGHT STRINGS                     4.0      08/01/21\n",
      "       9 NINE STRINGS                      4.5      09/01/21\n",
      "      10 TEN STRINGS                       5.0      10/01/21\n",
      "      11 ELEVEN STRINGS                    5.5      11/01/21\n"
     ]
    }
   ],
   "source": [
    "source = \"sample.dat\"\n",
    "for line in eachline(source)\n",
    "    println(line)\n",
    "end"
   ]
  },
  {
   "cell_type": "markdown",
   "metadata": {},
   "source": [
    "The current fixed-width solution from [`CSV.jl`](https://csv.juliadata.org/stable/#Fixed-Width-Files) mangles the file pretty badly."
   ]
  },
  {
   "cell_type": "code",
   "execution_count": 3,
   "metadata": {},
   "outputs": [
    {
     "name": "stderr",
     "output_type": "stream",
     "text": [
      "┌ Warning: thread = 1 warning: parsed expected 8 columns, but didn't reach end of line around data row: 2. Ignoring any extra columns on this row\n",
      "└ @ CSV /Users/jackshannon/.julia/packages/CSV/CJfFO/src/file.jl:606\n",
      "┌ Warning: thread = 1 warning: only found 5 / 8 columns around data row: 4. Filling remaining columns with `missing`\n",
      "└ @ CSV /Users/jackshannon/.julia/packages/CSV/CJfFO/src/file.jl:605\n",
      "┌ Warning: thread = 1 warning: only found 6 / 8 columns around data row: 5. Filling remaining columns with `missing`\n",
      "└ @ CSV /Users/jackshannon/.julia/packages/CSV/CJfFO/src/file.jl:605\n",
      "┌ Warning: thread = 1 warning: only found 5 / 8 columns around data row: 6. Filling remaining columns with `missing`\n",
      "└ @ CSV /Users/jackshannon/.julia/packages/CSV/CJfFO/src/file.jl:605\n",
      "┌ Warning: thread = 1 warning: only found 5 / 8 columns around data row: 7. Filling remaining columns with `missing`\n",
      "└ @ CSV /Users/jackshannon/.julia/packages/CSV/CJfFO/src/file.jl:605\n",
      "┌ Warning: thread = 1 warning: only found 7 / 8 columns around data row: 8. Filling remaining columns with `missing`\n",
      "└ @ CSV /Users/jackshannon/.julia/packages/CSV/CJfFO/src/file.jl:605\n",
      "┌ Warning: thread = 1 warning: only found 5 / 8 columns around data row: 9. Filling remaining columns with `missing`\n",
      "└ @ CSV /Users/jackshannon/.julia/packages/CSV/CJfFO/src/file.jl:605\n",
      "┌ Warning: thread = 1 warning: only found 5 / 8 columns around data row: 10. Filling remaining columns with `missing`\n",
      "└ @ CSV /Users/jackshannon/.julia/packages/CSV/CJfFO/src/file.jl:605\n",
      "┌ Warning: thread = 1 warning: only found 5 / 8 columns around data row: 11. Filling remaining columns with `missing`\n",
      "└ @ CSV /Users/jackshannon/.julia/packages/CSV/CJfFO/src/file.jl:605\n",
      "┌ Warning: thread = 1 warning: only found 5 / 8 columns around data row: 12. Filling remaining columns with `missing`\n",
      "└ @ CSV /Users/jackshannon/.julia/packages/CSV/CJfFO/src/file.jl:605\n"
     ]
    },
    {
     "data": {
      "text/html": [
       "<table class=\"data-frame\"><thead><tr><th></th><th>COLUMN</th><th>A</th><th>COLUMN_1</th><th>B</th><th>COLUMN_2</th><th>C</th><th>COLUMN_3</th><th>D</th></tr><tr><th></th><th>Int64?</th><th>String</th><th>String</th><th>String</th><th>String</th><th>String?</th><th>String?</th><th>String?</th></tr></thead><tbody><p>11 rows × 8 columns</p><tr><th>1</th><td>1</td><td>SOME</td><td>VERY</td><td>LONG</td><td>STRING</td><td>WITH</td><td>SPACES</td><td>0.5</td></tr><tr><th>2</th><td><em>missing</em></td><td>2</td><td>ANOTHER</td><td>VERY</td><td>LONG</td><td>STRING</td><td>1.0</td><td>02/01/21</td></tr><tr><th>3</th><td>3</td><td>MORE</td><td>STRINGS</td><td>1.5</td><td>03/01/21</td><td><em>missing</em></td><td><em>missing</em></td><td><em>missing</em></td></tr><tr><th>4</th><td>4</td><td>STILL</td><td>MORE</td><td>STRINGS</td><td>2.0</td><td>04/01/21</td><td><em>missing</em></td><td><em>missing</em></td></tr><tr><th>5</th><td>5</td><td>FIVE</td><td>STRINGS</td><td>2.5</td><td>05/01/21</td><td><em>missing</em></td><td><em>missing</em></td><td><em>missing</em></td></tr><tr><th>6</th><td>6</td><td>SIX</td><td>STRINGS</td><td>3.0</td><td>06/01/21</td><td><em>missing</em></td><td><em>missing</em></td><td><em>missing</em></td></tr><tr><th>7</th><td>7</td><td>SIX</td><td>PLUS</td><td>ONE</td><td>STRINGS</td><td>3.5</td><td>07/01/21</td><td><em>missing</em></td></tr><tr><th>8</th><td>8</td><td>EIGHT</td><td>STRINGS</td><td>4.0</td><td>08/01/21</td><td><em>missing</em></td><td><em>missing</em></td><td><em>missing</em></td></tr><tr><th>9</th><td>9</td><td>NINE</td><td>STRINGS</td><td>4.5</td><td>09/01/21</td><td><em>missing</em></td><td><em>missing</em></td><td><em>missing</em></td></tr><tr><th>10</th><td>10</td><td>TEN</td><td>STRINGS</td><td>5.0</td><td>10/01/21</td><td><em>missing</em></td><td><em>missing</em></td><td><em>missing</em></td></tr><tr><th>11</th><td>11</td><td>ELEVEN</td><td>STRINGS</td><td>5.5</td><td>11/01/21</td><td><em>missing</em></td><td><em>missing</em></td><td><em>missing</em></td></tr></tbody></table>"
      ],
      "text/latex": [
       "\\begin{tabular}{r|cccccccc}\n",
       "\t& COLUMN & A & COLUMN\\_1 & B & COLUMN\\_2 & C & COLUMN\\_3 & D\\\\\n",
       "\t\\hline\n",
       "\t& Int64? & String & String & String & String & String? & String? & String?\\\\\n",
       "\t\\hline\n",
       "\t1 & 1 & SOME & VERY & LONG & STRING & WITH & SPACES & 0.5 \\\\\n",
       "\t2 & \\emph{missing} & 2 & ANOTHER & VERY & LONG & STRING & 1.0 & 02/01/21 \\\\\n",
       "\t3 & 3 & MORE & STRINGS & 1.5 & 03/01/21 & \\emph{missing} & \\emph{missing} & \\emph{missing} \\\\\n",
       "\t4 & 4 & STILL & MORE & STRINGS & 2.0 & 04/01/21 & \\emph{missing} & \\emph{missing} \\\\\n",
       "\t5 & 5 & FIVE & STRINGS & 2.5 & 05/01/21 & \\emph{missing} & \\emph{missing} & \\emph{missing} \\\\\n",
       "\t6 & 6 & SIX & STRINGS & 3.0 & 06/01/21 & \\emph{missing} & \\emph{missing} & \\emph{missing} \\\\\n",
       "\t7 & 7 & SIX & PLUS & ONE & STRINGS & 3.5 & 07/01/21 & \\emph{missing} \\\\\n",
       "\t8 & 8 & EIGHT & STRINGS & 4.0 & 08/01/21 & \\emph{missing} & \\emph{missing} & \\emph{missing} \\\\\n",
       "\t9 & 9 & NINE & STRINGS & 4.5 & 09/01/21 & \\emph{missing} & \\emph{missing} & \\emph{missing} \\\\\n",
       "\t10 & 10 & TEN & STRINGS & 5.0 & 10/01/21 & \\emph{missing} & \\emph{missing} & \\emph{missing} \\\\\n",
       "\t11 & 11 & ELEVEN & STRINGS & 5.5 & 11/01/21 & \\emph{missing} & \\emph{missing} & \\emph{missing} \\\\\n",
       "\\end{tabular}\n"
      ],
      "text/plain": [
       "\u001b[1m11×8 DataFrame\u001b[0m\n",
       "\u001b[1m Row \u001b[0m│\u001b[1m COLUMN  \u001b[0m\u001b[1m A      \u001b[0m\u001b[1m COLUMN_1 \u001b[0m\u001b[1m B       \u001b[0m\u001b[1m COLUMN_2 \u001b[0m\u001b[1m C        \u001b[0m\u001b[1m COLUMN_3 \u001b[0m\u001b[1m D    \u001b[0m ⋯\n",
       "\u001b[1m     \u001b[0m│\u001b[90m Int64?  \u001b[0m\u001b[90m String \u001b[0m\u001b[90m String   \u001b[0m\u001b[90m String  \u001b[0m\u001b[90m String   \u001b[0m\u001b[90m String?  \u001b[0m\u001b[90m String?  \u001b[0m\u001b[90m Strin\u001b[0m ⋯\n",
       "─────┼──────────────────────────────────────────────────────────────────────────\n",
       "   1 │       1  SOME    VERY      LONG     STRING    WITH      SPACES    0.5   ⋯\n",
       "   2 │\u001b[90m missing \u001b[0m 2       ANOTHER   VERY     LONG      STRING    1.0       02/01\n",
       "   3 │       3  MORE    STRINGS   1.5      03/01/21 \u001b[90m missing  \u001b[0m\u001b[90m missing  \u001b[0m\u001b[90m missi\u001b[0m\n",
       "   4 │       4  STILL   MORE      STRINGS  2.0       04/01/21 \u001b[90m missing  \u001b[0m\u001b[90m missi\u001b[0m\n",
       "   5 │       5  FIVE    STRINGS   2.5      05/01/21 \u001b[90m missing  \u001b[0m\u001b[90m missing  \u001b[0m\u001b[90m missi\u001b[0m ⋯\n",
       "   6 │       6  SIX     STRINGS   3.0      06/01/21 \u001b[90m missing  \u001b[0m\u001b[90m missing  \u001b[0m\u001b[90m missi\u001b[0m\n",
       "   7 │       7  SIX     PLUS      ONE      STRINGS   3.5       07/01/21 \u001b[90m missi\u001b[0m\n",
       "   8 │       8  EIGHT   STRINGS   4.0      08/01/21 \u001b[90m missing  \u001b[0m\u001b[90m missing  \u001b[0m\u001b[90m missi\u001b[0m\n",
       "   9 │       9  NINE    STRINGS   4.5      09/01/21 \u001b[90m missing  \u001b[0m\u001b[90m missing  \u001b[0m\u001b[90m missi\u001b[0m ⋯\n",
       "  10 │      10  TEN     STRINGS   5.0      10/01/21 \u001b[90m missing  \u001b[0m\u001b[90m missing  \u001b[0m\u001b[90m missi\u001b[0m\n",
       "  11 │      11  ELEVEN  STRINGS   5.5      11/01/21 \u001b[90m missing  \u001b[0m\u001b[90m missing  \u001b[0m\u001b[90m missi\u001b[0m\n",
       "\u001b[36m                                                                1 column omitted\u001b[0m"
      ]
     },
     "execution_count": 3,
     "metadata": {},
     "output_type": "execute_result"
    }
   ],
   "source": [
    "df = CSV.File(source; delim=' ', ignorerepeated=true) |> DataFrame"
   ]
  },
  {
   "cell_type": "markdown",
   "metadata": {},
   "source": [
    "This `SimpleFWF.jl` package handles these cases by explicitly declaring column widths."
   ]
  },
  {
   "cell_type": "code",
   "execution_count": 4,
   "metadata": {},
   "outputs": [
    {
     "data": {
      "text/html": [
       "<table class=\"data-frame\"><thead><tr><th></th><th>COLUMN A</th><th>COLUMN B</th><th>COLUMN C</th><th>COLUMN D</th></tr><tr><th></th><th>String</th><th>String</th><th>String</th><th>String</th></tr></thead><tbody><p>11 rows × 4 columns</p><tr><th>1</th><td>1</td><td>SOME VERY LONG STRING WITH SPACES</td><td>0.5</td><td>01/01/21</td></tr><tr><th>2</th><td>2</td><td>ANOTHER VERY LONG STRING</td><td>1.0</td><td>02/01/21</td></tr><tr><th>3</th><td>3</td><td>MORE STRINGS</td><td>1.5</td><td>03/01/21</td></tr><tr><th>4</th><td>4</td><td>STILL MORE STRINGS</td><td>2.0</td><td>04/01/21</td></tr><tr><th>5</th><td>5</td><td>FIVE STRINGS</td><td>2.5</td><td>05/01/21</td></tr><tr><th>6</th><td>6</td><td>SIX STRINGS</td><td>3.0</td><td>06/01/21</td></tr><tr><th>7</th><td>7</td><td>SIX PLUS ONE STRINGS</td><td>3.5</td><td>07/01/21</td></tr><tr><th>8</th><td>8</td><td>EIGHT STRINGS</td><td>4.0</td><td>08/01/21</td></tr><tr><th>9</th><td>9</td><td>NINE STRINGS</td><td>4.5</td><td>09/01/21</td></tr><tr><th>10</th><td>10</td><td>TEN STRINGS</td><td>5.0</td><td>10/01/21</td></tr><tr><th>11</th><td>11</td><td>ELEVEN STRINGS</td><td>5.5</td><td>11/01/21</td></tr></tbody></table>"
      ],
      "text/latex": [
       "\\begin{tabular}{r|cccc}\n",
       "\t& COLUMN A & COLUMN B & COLUMN C & COLUMN D\\\\\n",
       "\t\\hline\n",
       "\t& String & String & String & String\\\\\n",
       "\t\\hline\n",
       "\t1 & 1 & SOME VERY LONG STRING WITH SPACES & 0.5 & 01/01/21 \\\\\n",
       "\t2 & 2 & ANOTHER VERY LONG STRING & 1.0 & 02/01/21 \\\\\n",
       "\t3 & 3 & MORE STRINGS & 1.5 & 03/01/21 \\\\\n",
       "\t4 & 4 & STILL MORE STRINGS & 2.0 & 04/01/21 \\\\\n",
       "\t5 & 5 & FIVE STRINGS & 2.5 & 05/01/21 \\\\\n",
       "\t6 & 6 & SIX STRINGS & 3.0 & 06/01/21 \\\\\n",
       "\t7 & 7 & SIX PLUS ONE STRINGS & 3.5 & 07/01/21 \\\\\n",
       "\t8 & 8 & EIGHT STRINGS & 4.0 & 08/01/21 \\\\\n",
       "\t9 & 9 & NINE STRINGS & 4.5 & 09/01/21 \\\\\n",
       "\t10 & 10 & TEN STRINGS & 5.0 & 10/01/21 \\\\\n",
       "\t11 & 11 & ELEVEN STRINGS & 5.5 & 11/01/21 \\\\\n",
       "\\end{tabular}\n"
      ],
      "text/plain": [
       "\u001b[1m11×4 DataFrame\u001b[0m\n",
       "\u001b[1m Row \u001b[0m│\u001b[1m COLUMN A \u001b[0m\u001b[1m COLUMN B                          \u001b[0m\u001b[1m COLUMN C \u001b[0m\u001b[1m COLUMN D \u001b[0m\n",
       "\u001b[1m     \u001b[0m│\u001b[90m String   \u001b[0m\u001b[90m String                            \u001b[0m\u001b[90m String   \u001b[0m\u001b[90m String   \u001b[0m\n",
       "─────┼─────────────────────────────────────────────────────────────────\n",
       "   1 │ 1         SOME VERY LONG STRING WITH SPACES  0.5       01/01/21\n",
       "   2 │ 2         ANOTHER VERY LONG STRING           1.0       02/01/21\n",
       "   3 │ 3         MORE STRINGS                       1.5       03/01/21\n",
       "   4 │ 4         STILL MORE STRINGS                 2.0       04/01/21\n",
       "   5 │ 5         FIVE STRINGS                       2.5       05/01/21\n",
       "   6 │ 6         SIX STRINGS                        3.0       06/01/21\n",
       "   7 │ 7         SIX PLUS ONE STRINGS               3.5       07/01/21\n",
       "   8 │ 8         EIGHT STRINGS                      4.0       08/01/21\n",
       "   9 │ 9         NINE STRINGS                       4.5       09/01/21\n",
       "  10 │ 10        TEN STRINGS                        5.0       10/01/21\n",
       "  11 │ 11        ELEVEN STRINGS                     5.5       11/01/21"
      ]
     },
     "execution_count": 4,
     "metadata": {},
     "output_type": "execute_result"
    }
   ],
   "source": [
    "ranges = (1:9, 10:43, 44:52, 53:60)\n",
    "df = readfwf(source, ranges)"
   ]
  }
 ],
 "metadata": {
  "kernelspec": {
   "display_name": "Julia 1.6.1",
   "language": "julia",
   "name": "julia-1.6"
  },
  "language_info": {
   "codemirror_mode": {
    "name": "ipython",
    "version": 3
   },
   "file_extension": ".py",
   "mimetype": "text/x-python",
   "name": "python",
   "nbconvert_exporter": "python",
   "pygments_lexer": "ipython3",
   "version": "3.8.8"
  }
 },
 "nbformat": 4,
 "nbformat_minor": 4
}
